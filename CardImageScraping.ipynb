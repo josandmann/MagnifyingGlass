{
 "cells": [
  {
   "cell_type": "code",
   "execution_count": 1,
   "id": "1a8a1aaa",
   "metadata": {},
   "outputs": [],
   "source": [
    "import requests\n",
    "import json\n",
    "import shutil\n",
    "from time import sleep\n",
    "from PIL import Image\n",
    "import io\n",
    "import logging\n",
    "import os\n",
    "import shutil"
   ]
  },
  {
   "cell_type": "code",
   "execution_count": 3,
   "id": "c71cf3bb",
   "metadata": {},
   "outputs": [],
   "source": [
    "logging.basicConfig(filename='downloader.log', encoding='utf-8', level=logging.WARNING)"
   ]
  },
  {
   "cell_type": "code",
   "execution_count": 4,
   "id": "ae448dd5",
   "metadata": {},
   "outputs": [],
   "source": [
    "url = 'https://api.scryfall.com/bulk-data'\n",
    "bulks = requests.get(url)\n",
    "bulk_dict = {s.get('type'): s for s in json.loads(bulks.text).get('data')}\n",
    "default_url = bulk_dict.get('default_cards').get('download_uri')"
   ]
  },
  {
   "cell_type": "code",
   "execution_count": 5,
   "id": "069460ca",
   "metadata": {},
   "outputs": [
    {
     "data": {
      "text/plain": [
       "True"
      ]
     },
     "execution_count": 5,
     "metadata": {},
     "output_type": "execute_result"
    }
   ],
   "source": [
    "default_cards=requests.get(default_url)\n",
    "default_cards.ok"
   ]
  },
  {
   "cell_type": "code",
   "execution_count": 9,
   "id": "97aeeb2b",
   "metadata": {},
   "outputs": [
    {
     "name": "stdout",
     "output_type": "stream",
     "text": [
      "68516\n"
     ]
    }
   ],
   "source": [
    "cards = json.loads(default_cards.text)\n",
    "print(len(cards))"
   ]
  },
  {
   "cell_type": "code",
   "execution_count": null,
   "id": "e8a3e79b",
   "metadata": {},
   "outputs": [],
   "source": [
    "testcard = cards[42]\n",
    "\n",
    "print(testcard.get('name'))\n",
    "\n",
    "testcard.get()"
   ]
  },
  {
   "cell_type": "code",
   "execution_count": 7,
   "id": "33565c82",
   "metadata": {},
   "outputs": [
    {
     "name": "stdout",
     "output_type": "stream",
     "text": [
      "True\n"
     ]
    }
   ],
   "source": [
    "target = '/mnt/d/cardimagescans'\n",
    "\n",
    "if target:\n",
    "    print('True')"
   ]
  },
  {
   "cell_type": "code",
   "execution_count": 10,
   "id": "856dcba9",
   "metadata": {},
   "outputs": [],
   "source": [
    "def make_dir_dict(target):\n",
    "    sets = os.listdir(target)\n",
    "    card_dirs = {s : os.listdir(os.path.join(target, s)) for s in sets}\n",
    "    return card_dirs\n",
    "\n",
    "last_card = []\n",
    "card_dirs = make_dir_dict(target)\n",
    "\n",
    "for i, card in enumerate(cards):\n",
    "    last_card = [i+1, card.get('name', False), card.get('set', False), card.get('collector_number', False), card.get('id', False)]\n",
    "    assert not (False in last_card), 'False in last card: {}'.format(last_card)\n",
    "    if not last_card[2] in card_dirs.keys(): # if cardset does not have a set folder...\n",
    "        os.makedirs(os.path.join(target, last_card[2])) # make that set folder...\n",
    "        card_dirs = make_dir_dict(target) # and refresh the directory dictionary\n",
    "        if not '{}.png'.format(last_card[-1]) in card_dirs.get(last_card[2]): # check that card is not yet in set folder\n",
    "            if card.get('highres_image'): # if card has highres png image available\n",
    "                image_uris = card.get('image_uris', False)\n",
    "                if (not image_uris == False) and (not image_uris == None):\n",
    "                    png_uri = image_uris.get('png', False)\n",
    "                    if png_uri:\n",
    "                        image = requests.get(image_uris.get('png'))\n",
    "                        sleep(0.1) # rate limiting, probably not necessary\n",
    "                        if image.ok:\n",
    "                            scryfall_id = last_card[-1]\n",
    "                            Image.open(io.BytesIO(image.content)).save(os.path.join(target, last_card[2], '{}.png'.format(scryfall_id)))\n",
    "                        else:\n",
    "                            print('Card {} {} could not be retrieved. Error Code {}'. format(card.get('name'), card.get('set'), image.status_code))\n",
    "                            logging.warning('{} {} {} not retreivable'.format(card.get('name'), card.get('set'), card.get('collector_number')))\n",
    "                    else:\n",
    "                        print('Card {} {} has no PNG uri. Skipping'.format(card.get('name'), card.get('set')))\n",
    "                        logging.warning('{} {} {} no PNG uri'.format(card.get('name'), card.get('set'), card.get('collector_number')))\n",
    "                else:\n",
    "                    print('Card {} {} has no info on image uris. Skipping.'.format(card.get('name'), card.get('set')))\n",
    "                    logging.warning('{} {} {} no image uris'.format(card.get('name'), card.get('set'), card.get('collector_number')))\n",
    "            else:\n",
    "                print('Card {} {} has no highres scan available. Skipping.'.format(card.get('name'), card.get('set')))\n",
    "                logging.warning('{} {} {} no highres scan'.format(card.get('name'), card.get('set'), card.get('collector_number')))\n"
   ]
  },
  {
   "cell_type": "code",
   "execution_count": null,
   "id": "aee60364",
   "metadata": {},
   "outputs": [],
   "source": [
    "def make_dir_dict(target):\n",
    "    sets = os.listdir(target)\n",
    "    card_dirs = {s : os.listdir(os.path.join(target, s)) for s in sets}\n",
    "    return card_dirs\n",
    "\n",
    "\n",
    "#target = os.path.join('D:', 'cardimagescans')\n",
    "last_card = []\n",
    "card_dirs = make_dir_dict(target)\n",
    "\n",
    "# TODO: implement new download algorithm that puts card images in respective set folders\n",
    "\n",
    "for i, card in enumerate(cards):\n",
    "    last_card = [i, card.get('name'), card.get('set'), card.get('collector_number')]\n",
    "    if not last_card[2] in card_dirs.keys():\n",
    "        os.makedirs(os.path.join(target, last_card[2]))\n",
    "        card_dirs = make_dir_dict(target)  \n",
    "        if not '{}.png'.format(card.get('id')) in card_dirs.get(last_card[2]):\n",
    "            if card.get('highres_image'):\n",
    "                image_uris = card.get('image_uris')\n",
    "                if (not image_uris == False) and (not image_uris == None):\n",
    "                    png_uri = image_uris.get('png')\n",
    "                    if not png_uri == False:\n",
    "                        image = requests.get(card.get('image_uris').get('png'))\n",
    "                        sleep(0.1)\n",
    "                        if image.ok:\n",
    "                            scryfall_id=card.get('id')\n",
    "                            Image.open(io.BytesIO(image.content)).save(os.path.join(target, last_card[2] '{}.png'.format(scryfall_id)))\n",
    "                        else:\n",
    "                            print('Card {} {} could not be retrieved. Error Code {}'. format(card.get('name'), card.get('set'), image.status_code))\n",
    "                            logging.warning('{} {} {} not retreivable'.format(card.get('name'), card.get('set'), card.get('collector_number')))\n",
    "                    else:\n",
    "                        print('Card {} {} has no PNG uri. Skipping'.format(card.get('name'), card.get('set')))\n",
    "                        logging.warning('{} {} {} no PNG uri'.format(card.get('name'), card.get('set'), card.get('collector_number')))\n",
    "                else:\n",
    "                    print('Card {} {} has no info on image uris. Skipping.'.format(card.get('name'), card.get('set')))\n",
    "                    logging.warning('{} {} {} no image uris'.format(card.get('name'), card.get('set'), card.get('collector_number')))\n",
    "            else:\n",
    "                print('Card {} {} has no highres scan available. Skipping.'.format(card.get('name'), card.get('set')))\n",
    "                logging.warning('{} {} {} no highres scan'.format(card.get('name'), card.get('set'), card.get('collector_number')))"
   ]
  },
  {
   "cell_type": "code",
   "execution_count": null,
   "id": "1e2a7170",
   "metadata": {},
   "outputs": [],
   "source": [
    "directory = os.listdir(target)\n",
    "moved = 0\n",
    "for i, card in enumerate(cards):\n",
    "    id = card.get('id')\n",
    "    s = card.get('set')\n",
    "    file = '{}.png'.format(id)\n",
    "    if file in directory:\n",
    "        if not os.path.exists(os.path.join(target, s)):\n",
    "            os.makedirs(os.path.join(target, s))\n",
    "        shutil.move(os.path.join(target, file), os.path.join(target, s, file))\n",
    "        moved +=1\n",
    "    if moved % 200 == 0:\n",
    "        print('{} cards moved into subfolders'.format(moved))\n",
    "        print('{} card objects investigated so far'.format(i))"
   ]
  },
  {
   "cell_type": "code",
   "execution_count": null,
   "id": "a00bc38e",
   "metadata": {},
   "outputs": [],
   "source": [
    "png = requests.get(cards[42].get('image_uris').get('png'))\n",
    "image =  Image.open(io.BytesIO(png.content))\n",
    "display(image)"
   ]
  },
  {
   "cell_type": "code",
   "execution_count": null,
   "id": "c204936c",
   "metadata": {},
   "outputs": [],
   "source": [
    "cardnames = []\n",
    "for i, card in enumerate(cards):\n",
    "    cardnames.append([card.get('name'), i])\n",
    "    image_uris = card.get('image_uris')\n",
    "    png_uri = image_uris.get('png')\n",
    "    "
   ]
  },
  {
   "cell_type": "code",
   "execution_count": null,
   "id": "a5b973ff",
   "metadata": {},
   "outputs": [],
   "source": [
    "problem_out = [0, 'Fury Sliver', 'tsp', '157', '0000579f-7b35-4ed3-b44c-db2a538066fe']\n",
    "for value in problem_out:\n",
    "    print(False == value)"
   ]
  }
 ],
 "metadata": {
  "interpreter": {
   "hash": "6a07be377b96d9253e4aa960188004583a7778b7453cac0e090bec1a451b774b"
  },
  "kernelspec": {
   "display_name": "Python 3.7.13 ('cardrecognition')",
   "language": "python",
   "name": "python3"
  },
  "language_info": {
   "codemirror_mode": {
    "name": "ipython",
    "version": 3
   },
   "file_extension": ".py",
   "mimetype": "text/x-python",
   "name": "python",
   "nbconvert_exporter": "python",
   "pygments_lexer": "ipython3",
   "version": "3.7.13"
  }
 },
 "nbformat": 4,
 "nbformat_minor": 5
}
