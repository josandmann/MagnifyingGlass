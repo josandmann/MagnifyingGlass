{
 "cells": [
  {
   "cell_type": "code",
   "execution_count": null,
   "metadata": {},
   "outputs": [],
   "source": [
    "import tensorflow as tf\n",
    "from tensorflow.keras import layers\n",
    "from tensorflow.keras import Model\n",
    "\n",
    "import numpy as np\n",
    "\n",
    "import PIL\n",
    "from PIL import Image\n",
    "\n",
    "import time\n",
    "\n",
    "import os\n",
    "\n",
    "# Extra imports\n",
    "import io\n",
    "from tensorflow.python.data.experimental import AUTOTUNE"
   ]
  },
  {
   "cell_type": "code",
   "execution_count": null,
   "metadata": {},
   "outputs": [],
   "source": [
    "data_path = '/mnt/d/cardimagescans'\n",
    "set_code = 'khm'"
   ]
  },
  {
   "cell_type": "code",
   "execution_count": null,
   "metadata": {},
   "outputs": [],
   "source": [
    "def load_images_and_labels(datapath, setcode):\n",
    "    directory = os.listdir(os.path.join(datapath, setcode))\n",
    "    labels = [name[:-4] for name in directory]\n",
    "    paths = [os.path.join(datapath, setcode, name) for name in directory]\n",
    "\n",
    "    return paths, labels"
   ]
  },
  {
   "cell_type": "code",
   "execution_count": null,
   "metadata": {},
   "outputs": [],
   "source": [
    "image_paths, image_labels = load_images_and_labels(data_path, set_code)"
   ]
  },
  {
   "cell_type": "code",
   "execution_count": null,
   "metadata": {},
   "outputs": [],
   "source": [
    "def build_tfrecords(pathlist, labellist):\n",
    "    with tf.io.TFRecordWriter('mtg.tfrecords') as writer:\n",
    "        int_label = [i for i in range(len(labellist))]\n",
    "        for path, label in zip(pathlist, int_label):\n",
    "            image = Image.open(path)\n",
    "            bytes_buffer = io.BytesIO()\n",
    "            image.convert('RGB').save(bytes_buffer, 'JPEG')\n",
    "            image_bytes = bytes_buffer.getvalue()\n",
    "\n",
    "            bytes_feature = tf.train.Feature(bytes_list = tf.train.BytesList(value=[image_bytes]))\n",
    "            class_feature = tf.train.Feature(int64_list=tf.train.Int64List(value=[label]))\n",
    "\n",
    "            example = tf.train.Example(\n",
    "                features = tf.train.Features(feature={\n",
    "                    'image': bytes_feature,\n",
    "                    'class': class_feature\n",
    "                })\n",
    "            )\n",
    "            writer.write(example.SerializeToString())\n",
    "            image.close()\n",
    "\n",
    "image_feature_description = {\n",
    "    \"image\": tf.io.FixedLenFeature([], tf.string), \n",
    "    \"class\": tf.io.FixedLenFeature([], tf.int64), \n",
    "    }\n",
    "\n",
    "def _parse_data(unparsed_example):\n",
    "    return tf.io.parse_single_example(unparsed_example, image_feature_description)\n",
    "\n",
    "def _bytestring_to_pixels(parsed_example):\n",
    "    byte_string = parsed_example['image']\n",
    "    image = tf.io.decode_image(byte_string)\n",
    "    image = tf.reshape(image, [1040, 745, 3])\n",
    "    return image, parsed_example[\"class\"]\n",
    "\n",
    "def load_and_extract_images(filepath):\n",
    "    dataset = tf.data.TFRecordDataset(filepath)\n",
    "    dataset = dataset.map(_parse_data, num_parallel_calls=AUTOTUNE)\n",
    "    dataset = dataset.map(_bytestring_to_pixels, num_parallel_calls=AUTOTUNE) # .cache()\n",
    "    return dataset"
   ]
  },
  {
   "cell_type": "code",
   "execution_count": null,
   "metadata": {},
   "outputs": [],
   "source": [
    "build_tfrecords(image_paths, image_labels)\n",
    "print(len(image_paths))"
   ]
  },
  {
   "cell_type": "code",
   "execution_count": null,
   "metadata": {},
   "outputs": [],
   "source": [
    "\n",
    "ds_train = load_and_extract_images('mtg.tfrecords')\n",
    "print(ds_train)"
   ]
  },
  {
   "cell_type": "code",
   "execution_count": null,
   "metadata": {},
   "outputs": [],
   "source": [
    "for image, label in ds_train.take(3):\n",
    "    print(image)\n",
    "    print(label)"
   ]
  },
  {
   "cell_type": "code",
   "execution_count": null,
   "metadata": {},
   "outputs": [],
   "source": [
    "train_split = 0.6\n",
    "validation_split = 0.2\n",
    "\n",
    "num_train_images = int(len(image_paths) * train_split)\n",
    "num_validation_images = int(len(image_paths) * validation_split)\n",
    "\n",
    "train_dataset = ds_train.take(num_train_images)\n",
    "validation_dataset = ds_train.skip(num_train_images).take(num_validation_images)\n",
    "test_dataset = ds_train.skip(num_train_images + num_validation_images)"
   ]
  },
  {
   "cell_type": "code",
   "execution_count": null,
   "metadata": {},
   "outputs": [],
   "source": [
    "model = tf.keras.Sequential()\n",
    "model.add(layers.Input(shape = (1040, 745, 3)))\n",
    "model.add(layers.Conv2D(64, 7))\n",
    "model.add(layers.MaxPool2D())\n",
    "model.add(layers.Conv2D(128, 4))\n",
    "model.add(layers.MaxPool2D())\n",
    "model.add(layers.Conv2D(256, 4))\n",
    "model.add(layers.MaxPool2D())\n",
    "model.add(layers.Flatten())\n",
    "model.add(layers.Dense(10))\n",
    "\n",
    "optimizer = tf.keras.optimizers.Adam(0.01)\n",
    "model.compile(optimizer=optimizer, loss='sparse_categorical_crossentropy', metrics=['accuracy'])\n",
    "\n",
    "batch_size = 8\n",
    "epochs = 10\n",
    "\n",
    "model.fit(train_dataset.batch(batch_size),validation_data=validation_dataset.batch(batch_size), epochs=epochs)"
   ]
  },
  {
   "cell_type": "code",
   "execution_count": null,
   "metadata": {},
   "outputs": [],
   "source": []
  }
 ],
 "metadata": {
  "interpreter": {
   "hash": "6a07be377b96d9253e4aa960188004583a7778b7453cac0e090bec1a451b774b"
  },
  "kernelspec": {
   "display_name": "Python 3.7.13 ('cardrecognition')",
   "language": "python",
   "name": "python3"
  },
  "language_info": {
   "codemirror_mode": {
    "name": "ipython",
    "version": 3
   },
   "file_extension": ".py",
   "mimetype": "text/x-python",
   "name": "python",
   "nbconvert_exporter": "python",
   "pygments_lexer": "ipython3",
   "version": "3.7.13"
  },
  "orig_nbformat": 4
 },
 "nbformat": 4,
 "nbformat_minor": 2
}
