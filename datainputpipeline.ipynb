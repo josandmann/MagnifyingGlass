{
 "cells": [
  {
   "cell_type": "code",
   "execution_count": null,
   "metadata": {},
   "outputs": [],
   "source": [
    "import tensorflow as tf\n",
    "import numpy as np\n",
    "import os\n",
    "from skimage.filters import gaussian\n",
    "\n",
    "import matplotlib.pyplot as plt"
   ]
  },
  {
   "cell_type": "code",
   "execution_count": null,
   "metadata": {},
   "outputs": [],
   "source": [
    "root_path = '/mnt/d/cardimagescans'\n",
    "set_codes = ['khm']"
   ]
  },
  {
   "cell_type": "code",
   "execution_count": null,
   "metadata": {},
   "outputs": [],
   "source": [
    "# def parse_function(filename, label):\n",
    "#     image_string = tf.read_file(filename)\n",
    "#     img = tf.image.decode_png(image_string, channels = 3)\n",
    "#     img = tf.image.convert_image_dtype(img, tf.float32)\n",
    "#     return img, label\n",
    "\n",
    "# def preprocess_images(image, label):\n",
    "#     img = tf.image.random_brightness(image, max_delta=0.6)\n",
    "#     img = tf.image.random_contrast(img, 0.2, 3.0)\n",
    "#     img = tf.image.random_jpeg_quality(img, 20, 80)\n",
    "\n",
    "#     img = gaussian(img, sigma=np.random.choice(range(1,10)))\n",
    "#     img = tf.clip_by_value(img, 0.0, 1.0)\n",
    "#     img = tf.image.resize(img, [385, 275])\n",
    "#     img = tf.image.random_crop(img, [350, 250, 3])\n",
    "#     return img, label\n",
    "\n",
    "\n",
    "\n",
    "class TripletDataset:\n",
    "\n",
    "    train_images = []\n",
    "    train_labels = []\n",
    "    test_images = []\n",
    "    test_labels = []\n",
    "    batch_size = 8\n",
    "    impaths = []\n",
    "    images = []\n",
    "    labels = []\n",
    "\n",
    "    def __init__(self, root_path, set_codes, batch_size):\n",
    "        self.batch_size = batch_size\n",
    "        self.impaths = self.get_card_paths(root_path, set_codes)\n",
    "        self.labels = [i for i in range(len(self.impaths))]\n",
    "        np.random.shuffle(self.labels)\n",
    "        np.random.shuffle(self.impaths)\n",
    "        assert len(self.impaths) >= 100, 'Too little data. Please include at least 100 examples'\n",
    "        print('loading {} images'.format(len(self.impaths)))\n",
    "        self.images = [self.load_image(img) for img in self.impaths]\n",
    "        self.train_images = self.images[:int(len(self.images)*0.9)]\n",
    "        self.train_labels = self.labels[:len(self.train_images)]\n",
    "        self.test_images = self.images[len(self.train_images):]\n",
    "        self.test_labels = self.labels[len(self.train_images):]\n",
    "        assert len(self.test_images) + len(self.train_images) == len(self.images), \\\n",
    "            'Some data points seem to have been dropped: {}+{} not {}'.format(\n",
    "                len(self.test_images), len(self.train_images), len(self.impaths)\n",
    "                )\n",
    "\n",
    "    def info(self):\n",
    "        print(self)\n",
    "\n",
    "    def get_card_paths(self, root_path, set_codes):\n",
    "        card_paths = []\n",
    "        print(root_path, set_codes)\n",
    "        for s in set_codes:\n",
    "            assert os.path.exists(os.path.join(root_path, s)), \\\n",
    "                'Error: path {} does not exist'.format(os.path.join(root_path, s))\n",
    "            set_path = os.listdir(os.path.join(root_path, s))\n",
    "            for card in set_path:\n",
    "                card_paths.append(os.path.join(root_path, s, card))\n",
    "        return card_paths\n",
    "\n",
    "    def load_image(self, image_path):\n",
    "        img = tf.io.read_file(image_path)\n",
    "        img = tf.image.decode_png(img, channels=3)\n",
    "        img = tf.image.convert_image_dtype(img, tf.float32)\n",
    "        img = tf.image.resize(img, [385, 275])\n",
    "        return img\n",
    "\n",
    "    def preprocess(self, image):\n",
    "        img = tf.image.random_brightness(image, max_delta=0.6)\n",
    "        img = tf.image.random_contrast(img, 0.2, 3.0)\n",
    "        img = tf.image.random_jpeg_quality(img, 20, 80)\n",
    "        img = gaussian(img, sigma=np.random.choice(range(1,4)))\n",
    "        img = tf.clip_by_value(img, 0.0, 1.0)\n",
    "        img = tf.image.random_crop(img, [350, 250, 3])\n",
    "        return img\n",
    "    \n",
    "    def get_triplet(self, train=True):\n",
    "        img_a = []\n",
    "        img_b = []\n",
    "        if not train:\n",
    "            idxs = np.random.randint(0, len(self.test_images), size=2)\n",
    "            img_a = self.test_images[idxs[0]]\n",
    "            img_b = self.test_images[idxs[1]]\n",
    "        else:\n",
    "            idxs = np.random.randint(0, len(self.train_images), size=2)\n",
    "            img_a = self.train_images[idxs[0]]\n",
    "            img_b = self.train_images[idxs[1]]\n",
    "        anker = self.preprocess(img_a)\n",
    "        positive = self.preprocess(img_a)\n",
    "        negative = self.preprocess(img_b)\n",
    "        return anker, positive, negative\n",
    "\n",
    "    def get_triplet_batch(self, train=True):\n",
    "        ankers, positives, negatives = [], [], []\n",
    "        for i in range(self.batch_size):\n",
    "            a, p, n = self.get_triplet(train)\n",
    "            ankers.append(a)\n",
    "            positives.append(p)\n",
    "            negatives.append(n)\n",
    "        return ankers, positives, negatives\n"
   ]
  },
  {
   "cell_type": "code",
   "execution_count": null,
   "metadata": {},
   "outputs": [],
   "source": [
    "dataset = TripletDataset(root_path, ['khm', 'isd'], batch_size=16)"
   ]
  },
  {
   "cell_type": "code",
   "execution_count": null,
   "metadata": {},
   "outputs": [],
   "source": [
    "triplet = dataset.get_triplet()"
   ]
  },
  {
   "cell_type": "code",
   "execution_count": null,
   "metadata": {},
   "outputs": [],
   "source": [
    "ankers, positives, negatives = dataset.get_triplet_batch()"
   ]
  },
  {
   "cell_type": "code",
   "execution_count": null,
   "metadata": {},
   "outputs": [],
   "source": [
    "print(len(ankers))"
   ]
  },
  {
   "cell_type": "code",
   "execution_count": null,
   "metadata": {},
   "outputs": [],
   "source": [
    "filenames = get_card_paths(root_path, set_codes)\n",
    "labels = [i for i in range(len(filenames))]\n",
    "\n",
    "dataset = tf.data.Dataset.from_tensor_slices((filenames, labels))\n",
    "dataset = dataset.map(parse_function, num_parallel_calls=4)\n",
    "dataset = dataset.map(preprocess_images, num_parallel_calls=4)"
   ]
  },
  {
   "cell_type": "code",
   "execution_count": null,
   "metadata": {},
   "outputs": [],
   "source": [
    "paths = get_card_paths(root_path, set_codes)\n",
    "\n",
    "img = tf.io.read_file(paths[42])\n",
    "img = tf.image.decode_png(img, 3)\n",
    "img = tf.image.convert_image_dtype(img, tf.float32)\n",
    "img = tf.image.random_brightness(img, max_delta=0.8)\n",
    "img = tf.image.random_contrast(img, 0.2, 3.0)\n",
    "img = tf.image.random_jpeg_quality(img, 20, 80)\n",
    "\n",
    "img = gaussian(img, sigma=np.random.choice(range(1,10)))\n",
    "img = tf.clip_by_value(img, 0.0, 1.0)\n",
    "img = tf.image.resize(img, [385, 275])\n",
    "img = tf.image.random_crop(img, [350, 250, 3])\n",
    "\n",
    "plt.figure(figsize=(12,9))\n",
    "plt.imshow(img)"
   ]
  }
 ],
 "metadata": {
  "interpreter": {
   "hash": "6a07be377b96d9253e4aa960188004583a7778b7453cac0e090bec1a451b774b"
  },
  "kernelspec": {
   "display_name": "Python 3.7.13 ('cardrecognition')",
   "language": "python",
   "name": "python3"
  },
  "language_info": {
   "codemirror_mode": {
    "name": "ipython",
    "version": 3
   },
   "file_extension": ".py",
   "mimetype": "text/x-python",
   "name": "python",
   "nbconvert_exporter": "python",
   "pygments_lexer": "ipython3",
   "version": "3.7.13"
  },
  "orig_nbformat": 4
 },
 "nbformat": 4,
 "nbformat_minor": 2
}
