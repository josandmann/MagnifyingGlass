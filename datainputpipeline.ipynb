{
 "cells": [
  {
   "cell_type": "code",
   "execution_count": 1,
   "metadata": {},
   "outputs": [
    {
     "name": "stderr",
     "output_type": "stream",
     "text": [
      "2022-05-20 19:34:58.494325: I tensorflow/stream_executor/platform/default/dso_loader.cc:48] Successfully opened dynamic library libcudart.so.10.1\n"
     ]
    }
   ],
   "source": [
    "import tensorflow as tf\n",
    "import numpy as np\n",
    "import os\n",
    "from skimage.filters import gaussian\n",
    "\n",
    "import matplotlib.pyplot as plt"
   ]
  },
  {
   "cell_type": "code",
   "execution_count": 2,
   "metadata": {},
   "outputs": [],
   "source": [
    "root_path = '/mnt/d/cardimagescans'\n",
    "set_codes = ['khm']"
   ]
  },
  {
   "cell_type": "code",
   "execution_count": 3,
   "metadata": {},
   "outputs": [],
   "source": [
    "def parse_function(filename, label):\n",
    "    image_string = tf.read_file(filename)\n",
    "    img = tf.image.decode_png(image_string, channels = 3)\n",
    "    img = tf.image.convert_image_dtype(img, tf.float32)\n",
    "    return img, label\n",
    "\n",
    "def preprocess_images(image, label):\n",
    "    img = tf.image.random_brightness(image, max_delta=0.6)\n",
    "    img = tf.image.random_contrast(img, 0.2, 3.0)\n",
    "    img = tf.image.random_jpeg_quality(img, 20, 80)\n",
    "\n",
    "    img = gaussian(img, sigma=np.random.choice(range(1,10)))\n",
    "    img = tf.clip_by_value(img, 0.0, 1.0)\n",
    "    img = tf.image.resize(img, [385, 275])\n",
    "    img = tf.image.random_crop(img, [350, 250, 3])\n",
    "    return img, label\n",
    "\n",
    "\n",
    "\n",
    "class TripletDataset:\n",
    "\n",
    "    train_images = []\n",
    "    train_labels = []\n",
    "    test_images = []\n",
    "    test_labels = []\n",
    "    batch_size = 8\n",
    "    impaths = []\n",
    "    images = []\n",
    "    labels = []\n",
    "\n",
    "    def __init__(self, root_path, set_codes, batch_size):\n",
    "        self.batch_size = batch_size\n",
    "        self.impaths = self.get_card_paths(root_path, set_codes)\n",
    "        self.labels = [i for i in range(len(self.impaths))]\n",
    "        np.random.shuffle(self.labels)\n",
    "        np.random.shuffle(self.impaths)\n",
    "        assert len(self.impaths) >= 100, 'Too little data. Please include at least 100 examples'\n",
    "        print('loading {} images'.format(len(self.impaths)))\n",
    "        self.images = [self.load_image(img) for img in self.impaths]\n",
    "        self.train_images = self.images[:int(len(self.images)*0.9)]\n",
    "        self.train_labels = self.labels[:len(self.train_images)]\n",
    "        self.test_images = self.images[len(self.train_images):]\n",
    "        self.test_labels = self.labels[len(self.train_images):]\n",
    "        assert len(self.test_images) + len(self.train_images) == len(self.images), \\\n",
    "            'Some data points seem to have been dropped: {}+{} not {}'.format(\n",
    "                len(self.test_images), len(self.train_images), len(self.impaths)\n",
    "                )\n",
    "\n",
    "    def info(self):\n",
    "        print(self)\n",
    "\n",
    "    def get_card_paths(self, root_path, set_codes):\n",
    "        card_paths = []\n",
    "        print(root_path, set_codes)\n",
    "        for s in set_codes:\n",
    "            assert os.path.exists(os.path.join(root_path, s)), \\\n",
    "                'Error: path {} does not exist'.format(os.path.join(root_path, s))\n",
    "            set_path = os.listdir(os.path.join(root_path, s))\n",
    "            for card in set_path:\n",
    "                card_paths.append(os.path.join(root_path, s, card))\n",
    "        return card_paths\n",
    "\n",
    "    def load_image(self, image_path):\n",
    "        img = tf.io.read_file(image_path)\n",
    "        img = tf.image.decode_png(img, channels=3)\n",
    "        img = tf.image.convert_image_dtype(img, tf.float32)\n",
    "        img = tf.image.resize(img, [385, 275])\n",
    "        return img\n",
    "\n",
    "    def preprocess(self, image):\n",
    "        img = tf.image.random_brightness(image, max_delta=0.6)\n",
    "        img = tf.image.random_contrast(img, 0.2, 3.0)\n",
    "        img = tf.image.random_jpeg_quality(img, 20, 80)\n",
    "        img = gaussian(img, sigma=np.random.choice(range(1,4)))\n",
    "        img = tf.clip_by_value(img, 0.0, 1.0)\n",
    "        #img = tf.image.resize(img, [385, 275])\n",
    "        img = tf.image.random_crop(img, [350, 250, 3])\n",
    "        return img\n",
    "    \n",
    "    def get_triplet(self, train=True):\n",
    "        img_a = []\n",
    "        img_b = []\n",
    "        if not train:\n",
    "            idxs = np.random.randint(0, len(self.test_images), size=2)\n",
    "            img_a = self.test_images[idxs[0]]\n",
    "            img_b = self.test_images[idxs[1]]\n",
    "        else:\n",
    "            idxs = np.random.randint(0, len(self.train_images), size=2)\n",
    "            img_a = self.train_images[idxs[0]]\n",
    "            img_b = self.train_images[idxs[1]]\n",
    "        anker = self.preprocess(img_a)\n",
    "        positive = self.preprocess(img_a)\n",
    "        negative = self.preprocess(img_b)\n",
    "        return anker, positive, negative\n",
    "\n",
    "    def get_triplet_batch(self, train=True):\n",
    "        ankers, positives, negatives = [], [], []\n",
    "        for i in range(self.batch_size):\n",
    "            a, p, n = self.get_triplet(train)\n",
    "            ankers.append(a)\n",
    "            positives.append(p)\n",
    "            negatives.append(n)\n",
    "        return ankers, positives, negatives\n"
   ]
  },
  {
   "cell_type": "code",
   "execution_count": 4,
   "metadata": {},
   "outputs": [
    {
     "name": "stdout",
     "output_type": "stream",
     "text": [
      "/mnt/d/cardimagescans ['khm', 'isd']\n",
      "loading 619 images\n"
     ]
    },
    {
     "name": "stderr",
     "output_type": "stream",
     "text": [
      "2022-05-20 19:35:30.195828: I tensorflow/stream_executor/platform/default/dso_loader.cc:48] Successfully opened dynamic library libcuda.so.1\n",
      "2022-05-20 19:35:30.406294: E tensorflow/stream_executor/cuda/cuda_gpu_executor.cc:968] could not open file to read NUMA node: /sys/bus/pci/devices/0000:09:00.0/numa_node\n",
      "Your kernel may have been built without NUMA support.\n",
      "2022-05-20 19:35:30.408462: I tensorflow/core/common_runtime/gpu/gpu_device.cc:1716] Found device 0 with properties: \n",
      "pciBusID: 0000:09:00.0 name: NVIDIA GeForce GTX 1660 SUPER computeCapability: 7.5\n",
      "coreClock: 1.83GHz coreCount: 22 deviceMemorySize: 6.00GiB deviceMemoryBandwidth: 312.97GiB/s\n",
      "2022-05-20 19:35:30.408480: I tensorflow/stream_executor/platform/default/dso_loader.cc:48] Successfully opened dynamic library libcudart.so.10.1\n",
      "2022-05-20 19:35:30.409356: I tensorflow/stream_executor/platform/default/dso_loader.cc:48] Successfully opened dynamic library libcublas.so.10\n",
      "2022-05-20 19:35:30.410264: I tensorflow/stream_executor/platform/default/dso_loader.cc:48] Successfully opened dynamic library libcufft.so.10\n",
      "2022-05-20 19:35:30.410407: I tensorflow/stream_executor/platform/default/dso_loader.cc:48] Successfully opened dynamic library libcurand.so.10\n",
      "2022-05-20 19:35:30.411184: I tensorflow/stream_executor/platform/default/dso_loader.cc:48] Successfully opened dynamic library libcusolver.so.10\n",
      "2022-05-20 19:35:30.411572: I tensorflow/stream_executor/platform/default/dso_loader.cc:48] Successfully opened dynamic library libcusparse.so.10\n",
      "2022-05-20 19:35:30.413536: I tensorflow/stream_executor/platform/default/dso_loader.cc:48] Successfully opened dynamic library libcudnn.so.7\n",
      "2022-05-20 19:35:30.413644: E tensorflow/stream_executor/cuda/cuda_gpu_executor.cc:968] could not open file to read NUMA node: /sys/bus/pci/devices/0000:09:00.0/numa_node\n",
      "Your kernel may have been built without NUMA support.\n",
      "2022-05-20 19:35:30.413686: E tensorflow/stream_executor/cuda/cuda_gpu_executor.cc:968] could not open file to read NUMA node: /sys/bus/pci/devices/0000:09:00.0/numa_node\n",
      "Your kernel may have been built without NUMA support.\n",
      "2022-05-20 19:35:30.413693: I tensorflow/core/common_runtime/gpu/gpu_device.cc:1858] Adding visible gpu devices: 0\n",
      "2022-05-20 19:35:30.414728: I tensorflow/core/platform/cpu_feature_guard.cc:142] This TensorFlow binary is optimized with oneAPI Deep Neural Network Library (oneDNN)to use the following CPU instructions in performance-critical operations:  AVX2 FMA\n",
      "To enable them in other operations, rebuild TensorFlow with the appropriate compiler flags.\n",
      "2022-05-20 19:35:30.420476: I tensorflow/core/platform/profile_utils/cpu_utils.cc:104] CPU Frequency: 3800000000 Hz\n",
      "2022-05-20 19:35:30.421437: I tensorflow/compiler/xla/service/service.cc:168] XLA service 0x55930e633f70 initialized for platform Host (this does not guarantee that XLA will be used). Devices:\n",
      "2022-05-20 19:35:30.421461: I tensorflow/compiler/xla/service/service.cc:176]   StreamExecutor device (0): Host, Default Version\n",
      "2022-05-20 19:35:30.610746: E tensorflow/stream_executor/cuda/cuda_gpu_executor.cc:968] could not open file to read NUMA node: /sys/bus/pci/devices/0000:09:00.0/numa_node\n",
      "Your kernel may have been built without NUMA support.\n",
      "2022-05-20 19:35:30.610886: I tensorflow/compiler/xla/service/service.cc:168] XLA service 0x559311383810 initialized for platform CUDA (this does not guarantee that XLA will be used). Devices:\n",
      "2022-05-20 19:35:30.610897: I tensorflow/compiler/xla/service/service.cc:176]   StreamExecutor device (0): NVIDIA GeForce GTX 1660 SUPER, Compute Capability 7.5\n",
      "2022-05-20 19:35:30.612639: E tensorflow/stream_executor/cuda/cuda_gpu_executor.cc:968] could not open file to read NUMA node: /sys/bus/pci/devices/0000:09:00.0/numa_node\n",
      "Your kernel may have been built without NUMA support.\n",
      "2022-05-20 19:35:30.612658: I tensorflow/core/common_runtime/gpu/gpu_device.cc:1716] Found device 0 with properties: \n",
      "pciBusID: 0000:09:00.0 name: NVIDIA GeForce GTX 1660 SUPER computeCapability: 7.5\n",
      "coreClock: 1.83GHz coreCount: 22 deviceMemorySize: 6.00GiB deviceMemoryBandwidth: 312.97GiB/s\n",
      "2022-05-20 19:35:30.612679: I tensorflow/stream_executor/platform/default/dso_loader.cc:48] Successfully opened dynamic library libcudart.so.10.1\n",
      "2022-05-20 19:35:30.612699: I tensorflow/stream_executor/platform/default/dso_loader.cc:48] Successfully opened dynamic library libcublas.so.10\n",
      "2022-05-20 19:35:30.612709: I tensorflow/stream_executor/platform/default/dso_loader.cc:48] Successfully opened dynamic library libcufft.so.10\n",
      "2022-05-20 19:35:30.612717: I tensorflow/stream_executor/platform/default/dso_loader.cc:48] Successfully opened dynamic library libcurand.so.10\n",
      "2022-05-20 19:35:30.612724: I tensorflow/stream_executor/platform/default/dso_loader.cc:48] Successfully opened dynamic library libcusolver.so.10\n",
      "2022-05-20 19:35:30.612732: I tensorflow/stream_executor/platform/default/dso_loader.cc:48] Successfully opened dynamic library libcusparse.so.10\n",
      "2022-05-20 19:35:30.612739: I tensorflow/stream_executor/platform/default/dso_loader.cc:48] Successfully opened dynamic library libcudnn.so.7\n",
      "2022-05-20 19:35:30.612770: E tensorflow/stream_executor/cuda/cuda_gpu_executor.cc:968] could not open file to read NUMA node: /sys/bus/pci/devices/0000:09:00.0/numa_node\n",
      "Your kernel may have been built without NUMA support.\n",
      "2022-05-20 19:35:30.612820: E tensorflow/stream_executor/cuda/cuda_gpu_executor.cc:968] could not open file to read NUMA node: /sys/bus/pci/devices/0000:09:00.0/numa_node\n",
      "Your kernel may have been built without NUMA support.\n",
      "2022-05-20 19:35:30.612829: I tensorflow/core/common_runtime/gpu/gpu_device.cc:1858] Adding visible gpu devices: 0\n",
      "2022-05-20 19:35:30.612850: I tensorflow/stream_executor/platform/default/dso_loader.cc:48] Successfully opened dynamic library libcudart.so.10.1\n",
      "2022-05-20 19:35:30.934894: I tensorflow/core/common_runtime/gpu/gpu_device.cc:1257] Device interconnect StreamExecutor with strength 1 edge matrix:\n",
      "2022-05-20 19:35:30.934919: I tensorflow/core/common_runtime/gpu/gpu_device.cc:1263]      0 \n",
      "2022-05-20 19:35:30.934923: I tensorflow/core/common_runtime/gpu/gpu_device.cc:1276] 0:   N \n",
      "2022-05-20 19:35:30.935203: E tensorflow/stream_executor/cuda/cuda_gpu_executor.cc:968] could not open file to read NUMA node: /sys/bus/pci/devices/0000:09:00.0/numa_node\n",
      "Your kernel may have been built without NUMA support.\n",
      "2022-05-20 19:35:30.935219: I tensorflow/core/common_runtime/gpu/gpu_device.cc:1485] Could not identify NUMA node of platform GPU id 0, defaulting to 0.  Your kernel may not have been built with NUMA support.\n",
      "2022-05-20 19:35:30.935270: E tensorflow/stream_executor/cuda/cuda_gpu_executor.cc:968] could not open file to read NUMA node: /sys/bus/pci/devices/0000:09:00.0/numa_node\n",
      "Your kernel may have been built without NUMA support.\n",
      "2022-05-20 19:35:30.935302: I tensorflow/core/common_runtime/gpu/gpu_device.cc:1402] Created TensorFlow device (/job:localhost/replica:0/task:0/device:GPU:0 with 4720 MB memory) -> physical GPU (device: 0, name: NVIDIA GeForce GTX 1660 SUPER, pci bus id: 0000:09:00.0, compute capability: 7.5)\n"
     ]
    }
   ],
   "source": [
    "dataset = TripletDataset(root_path, ['khm', 'isd'], batch_size=16)"
   ]
  },
  {
   "cell_type": "code",
   "execution_count": null,
   "metadata": {},
   "outputs": [],
   "source": [
    "triplet = dataset.get_triplet()"
   ]
  },
  {
   "cell_type": "code",
   "execution_count": 5,
   "metadata": {},
   "outputs": [
    {
     "name": "stderr",
     "output_type": "stream",
     "text": [
      "/home/jomann/anaconda3/envs/cardrecognition/lib/python3.7/site-packages/ipykernel_launcher.py:74: RuntimeWarning: Images with dimensions (M, N, 3) are interpreted as 2D+RGB by default. Use `multichannel=False` to interpret as 3D image with last dimension of length 3.\n"
     ]
    }
   ],
   "source": [
    "ankers, positives, negatives = dataset.get_triplet_batch()"
   ]
  },
  {
   "cell_type": "code",
   "execution_count": 7,
   "metadata": {},
   "outputs": [
    {
     "name": "stdout",
     "output_type": "stream",
     "text": [
      "16\n"
     ]
    }
   ],
   "source": [
    "print(len(ankers))"
   ]
  },
  {
   "cell_type": "code",
   "execution_count": null,
   "metadata": {},
   "outputs": [],
   "source": [
    "filenames = get_card_paths(root_path, set_codes)\n",
    "labels = [i for i in range(len(filenames))]\n",
    "\n",
    "dataset = tf.data.Dataset.from_tensor_slices((filenames, labels))\n",
    "dataset = dataset.map(parse_function, num_parallel_calls=4)\n",
    "dataset = dataset.map(preprocess_images, num_parallel_calls=4)"
   ]
  },
  {
   "cell_type": "code",
   "execution_count": null,
   "metadata": {},
   "outputs": [],
   "source": [
    "paths = get_card_paths(root_path, set_codes)\n",
    "\n",
    "img = tf.io.read_file(paths[42])\n",
    "img = tf.image.decode_png(img, 3)\n",
    "img = tf.image.convert_image_dtype(img, tf.float32)\n",
    "img = tf.image.random_brightness(img, max_delta=0.8)\n",
    "img = tf.image.random_contrast(img, 0.2, 3.0)\n",
    "img = tf.image.random_jpeg_quality(img, 20, 80)\n",
    "\n",
    "img = gaussian(img, sigma=np.random.choice(range(1,10)))\n",
    "img = tf.clip_by_value(img, 0.0, 1.0)\n",
    "img = tf.image.resize(img, [385, 275])\n",
    "img = tf.image.random_crop(img, [350, 250, 3])\n",
    "\n",
    "plt.figure(figsize=(12,9))\n",
    "plt.imshow(img)"
   ]
  },
  {
   "cell_type": "code",
   "execution_count": null,
   "metadata": {},
   "outputs": [],
   "source": [
    "np.divide([1040, 745], [3.5, 2.5])"
   ]
  }
 ],
 "metadata": {
  "interpreter": {
   "hash": "6a07be377b96d9253e4aa960188004583a7778b7453cac0e090bec1a451b774b"
  },
  "kernelspec": {
   "display_name": "Python 3.7.13 ('cardrecognition')",
   "language": "python",
   "name": "python3"
  },
  "language_info": {
   "codemirror_mode": {
    "name": "ipython",
    "version": 3
   },
   "file_extension": ".py",
   "mimetype": "text/x-python",
   "name": "python",
   "nbconvert_exporter": "python",
   "pygments_lexer": "ipython3",
   "version": "3.7.13"
  },
  "orig_nbformat": 4
 },
 "nbformat": 4,
 "nbformat_minor": 2
}
