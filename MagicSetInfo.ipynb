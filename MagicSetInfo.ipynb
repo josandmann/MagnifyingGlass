{
 "cells": [
  {
   "cell_type": "code",
   "execution_count": 1,
   "id": "385c017e",
   "metadata": {},
   "outputs": [],
   "source": [
    "import requests\n",
    "import json\n",
    "import matplotlib.pyplot as plt\n",
    "import numpy as np\n",
    "import os"
   ]
  },
  {
   "cell_type": "code",
   "execution_count": 2,
   "id": "620a49f1",
   "metadata": {},
   "outputs": [],
   "source": [
    "# get scryfall default cards\n",
    "url = url = 'https://api.scryfall.com/bulk-data'\n",
    "bulks = requests.get(url)\n",
    "bulk_dict = {s.get('type'): s for s in json.loads(bulks.text).get('data')}\n",
    "default_url = bulk_dict.get('default_cards').get('download_uri')\n",
    "default_cards=requests.get(default_url)\n",
    "default_cards.ok\n",
    "cards = json.loads(default_cards.text)"
   ]
  },
  {
   "cell_type": "code",
   "execution_count": 7,
   "id": "266343bf",
   "metadata": {},
   "outputs": [
    {
     "name": "stdout",
     "output_type": "stream",
     "text": [
      "{'draft_innovation', 'masters', 'commander', 'promo', 'planechase', 'arsenal', 'memorabilia', 'starter', 'funny', 'token', 'spellbook', 'expansion', 'archenemy', 'duel_deck', 'alchemy', 'vanguard', 'premium_deck', 'from_the_vault', 'treasure_chest', 'core', 'box', 'masterpiece'}\n"
     ]
    }
   ],
   "source": [
    "# Build different dictionaries to navigate card sets\n",
    "# set : set-type dictionary\n",
    "sets_types = {}\n",
    "types = []\n",
    "for card in cards: # cardset scan 1\n",
    "    s = card.get('set')\n",
    "    t = card.get('set_type')\n",
    "    types.append(t)\n",
    "    sets_types[s] = t\n",
    "\n",
    "# all set types\n",
    "types = set(types)\n",
    "print(types)\n",
    "\n",
    "# set-type : sets dictionary\n",
    "types_sets = {t : [] for t in types}\n",
    "for s in sets_types:\n",
    "    t= sets_types.get(s)\n",
    "    newt = types_sets.get(t)\n",
    "    newt.append(s)\n",
    "    types_sets[t] = newt\n",
    "    \n",
    "# set-type : sets : cards-in-set dictionary\n",
    "types_sets_cards = {}\n",
    "for t in types_sets.keys():\n",
    "    types_sets_cards[t] = {s : [] for s in types_sets.get(t)}\n",
    "for card in cards: # cardset scan 2\n",
    "    types_sets_cards[card.get('set_type')][card.get('set')].append(card)\n",
    "\n",
    "def qualified(c, exclude_sets=[], exclude_types=[]):\n",
    "    q = True\n",
    "    if not 'paper' in card.get('games'):\n",
    "        q = False\n",
    "    if c.get('set') in exclude_sets:\n",
    "        q = False\n",
    "    elif card.get('set_type') in exclude_types:\n",
    "        q = False\n",
    "    return q"
   ]
  },
  {
   "cell_type": "code",
   "execution_count": 8,
   "id": "47096781",
   "metadata": {},
   "outputs": [
    {
     "data": {
      "text/plain": [
       "['me4',\n",
       " 'ced',\n",
       " 'vma',\n",
       " 'aznr',\n",
       " 'wc02',\n",
       " 'me2',\n",
       " 'pz2',\n",
       " 'wc98',\n",
       " 'mid',\n",
       " 'anb',\n",
       " 'prm',\n",
       " 'wc01',\n",
       " 'akr',\n",
       " 'cei',\n",
       " 'ymid',\n",
       " 'j21',\n",
       " 'ptc',\n",
       " 'wc97',\n",
       " 'wc03',\n",
       " 'klr',\n",
       " 'war',\n",
       " 'me1',\n",
       " 'ha5',\n",
       " 'astx',\n",
       " 'oc20',\n",
       " 'tpr',\n",
       " 'amh1',\n",
       " 'wc99',\n",
       " 'td0',\n",
       " 'ha3',\n",
       " 'td2',\n",
       " 'psdg',\n",
       " 'znr',\n",
       " 'pmoa',\n",
       " 'skhm',\n",
       " 'ovnt',\n",
       " 'ana',\n",
       " 'wc00',\n",
       " 'pz1',\n",
       " 'ha4',\n",
       " 'pana',\n",
       " 'akhm',\n",
       " 'oana',\n",
       " 'sstx',\n",
       " 'me3',\n",
       " 'wc04',\n",
       " 'ha2',\n",
       " 'ocmd',\n",
       " 'olgc',\n",
       " 'xana',\n",
       " 'ajmp',\n",
       " 'svow',\n",
       " 'phel',\n",
       " 'oc14',\n",
       " 'pcmd',\n",
       " 'ocm1',\n",
       " 'past',\n",
       " 'yneo',\n",
       " 'khm',\n",
       " 'afr',\n",
       " 'iko',\n",
       " 'ha1',\n",
       " 'oc13',\n",
       " 'eld',\n",
       " 'oc15',\n",
       " 'pcel',\n",
       " 'oc18',\n",
       " 'oc16',\n",
       " 'vow',\n",
       " 'mvow',\n",
       " 'oc17',\n",
       " 'oc19',\n",
       " 'jmp',\n",
       " 'stx']"
      ]
     },
     "execution_count": 8,
     "metadata": {},
     "output_type": "execute_result"
    }
   ],
   "source": [
    "\n",
    "target = os.listdir(os.path.join('D:', 'cardimagescans'))\n",
    "for card in cards:\n",
    "    if"
   ]
  },
  {
   "cell_type": "code",
   "execution_count": 9,
   "id": "a3ef4297",
   "metadata": {},
   "outputs": [
    {
     "name": "stdout",
     "output_type": "stream",
     "text": [
      "{'draft_innovation', 'masters', 'commander', 'promo', 'planechase', 'arsenal', 'memorabilia', 'starter', 'funny', 'token', 'spellbook', 'expansion', 'archenemy', 'duel_deck', 'alchemy', 'vanguard', 'premium_deck', 'from_the_vault', 'treasure_chest', 'core', 'box', 'masterpiece'}\n"
     ]
    }
   ],
   "source": [
    "print(types)"
   ]
  },
  {
   "cell_type": "code",
   "execution_count": null,
   "id": "57964c6c",
   "metadata": {},
   "outputs": [],
   "source": [
    "exclude = ['vanguard', 'memorabilia', 'token', 'alchemy', 'treasure_chest']"
   ]
  },
  {
   "cell_type": "code",
   "execution_count": 11,
   "id": "26b61b4f",
   "metadata": {},
   "outputs": [
    {
     "name": "stdout",
     "output_type": "stream",
     "text": [
      "['cm1', 'cc2', 'cc1']\n"
     ]
    }
   ],
   "source": [
    "print(types_sets.get('arsenal'))"
   ]
  },
  {
   "cell_type": "code",
   "execution_count": null,
   "id": "d2bc34c2",
   "metadata": {},
   "outputs": [],
   "source": [
    "target = os.listdir(os.path.join('D:', 'cardimagescans'))\n",
    "sets_missing = {s : {'type' :sets_types.get(s), 'hires': 0, 'missing' : 0} for s in sets_types.keys()}\n",
    "for card in cards:\n",
    "    s = card.get('set')\n",
    "    hires = '{}.png'.format(card.get('id')) in target\n",
    "    if hires:\n",
    "        sets_missing[s]['hires'] += 1\n",
    "    else:\n",
    "        sets_missing[s]['missing'] +=1\n",
    "        \n",
    "types_missing = {t : {'hires' : 0, 'missing' : 0} for t in types}\n",
    "for k in sets_missing.keys():\n",
    "    s = sets_missing.get(k)\n",
    "    types_missing[s.get('type')]['missing'] += s.get('missing')\n",
    "    types_missing[s.get('type')]['hires'] += s.get('hires')\n",
    "    \n",
    "for s in types_missing.keys():\n",
    "    missing = types_missing.get(s).get('missing')\n",
    "    total = types_missing.get(s).get('hires') + missing\n",
    "    print('{}: missing {} of {} cards'.format(s, missing, total))\n",
    "\n",
    "for s in sets_missing.keys():\n",
    "    missing = sets_missing.get(s).get('missing')\n",
    "    total = sets_missing.get(s).get('hires') + missing\n",
    "    print('{}: missing {} of {}'.format(s, missing, total))"
   ]
  },
  {
   "cell_type": "code",
   "execution_count": null,
   "id": "0a0695dd",
   "metadata": {},
   "outputs": [],
   "source": [
    "print(sets_missing.keys())"
   ]
  },
  {
   "cell_type": "code",
   "execution_count": null,
   "id": "1d2af5b0",
   "metadata": {},
   "outputs": [],
   "source": [
    "paper = 0\n",
    "for card in cards:\n",
    "    if 'paper' in card.get('games'):\n",
    "        paper = paper + 1\n",
    "        \n",
    "print(len(cards), paper)"
   ]
  },
  {
   "cell_type": "code",
   "execution_count": null,
   "id": "cd496c26",
   "metadata": {},
   "outputs": [],
   "source": [
    "sets_types = {}\n",
    "for card in cards:\n",
    "    s = card.get('set')\n",
    "    t = card.get('set_type')\n",
    "    if s and t:\n",
    "        if not sets_types.get(s):\n",
    "            sets_types[s] = t\n",
    "            "
   ]
  },
  {
   "cell_type": "code",
   "execution_count": null,
   "id": "ff8f6dca",
   "metadata": {},
   "outputs": [],
   "source": [
    "#len([k for k in sets_types])\n",
    "types = set(sorted([sets_types.get(k) for k in sets_types]))\n",
    "types_sets = {k : [] for k in types}\n",
    "for s in sets_types:\n",
    "    t= sets_types.get(s)\n",
    "    newt = types_sets.get(t)\n",
    "    newt.append(s)\n",
    "    types_sets[t] = newt\n",
    "    \n",
    "sets_count = {s : 0 for s in sets_types}\n",
    "for card in cards:\n",
    "    s = card.get('set')\n",
    "    num = sets_count.get(s)\n",
    "    sets_count[s] = num +1\n",
    "    \n",
    "types_count = {}\n",
    "for t in types:\n",
    "    sets = types_sets.get(t)\n",
    "    types_count[t] = sum([sets_count.get(c) for c in sets])\n",
    "    \n",
    "total = len(cards)\n",
    "\n",
    "labels = [l for l in types_count]\n",
    "sizes = np.divide(np.multiply([types_count.get(l) for l in types_count], 100), total)\n",
    "print(len(labels))\n",
    "print(len(sizes))\n",
    "fig, ax = plt.subplots(figsize=(16,16))\n",
    "ax.pie(sizes, labels = labels)\n",
    "plt.show()"
   ]
  }
 ],
 "metadata": {
  "kernelspec": {
   "display_name": "Python 3 (ipykernel)",
   "language": "python",
   "name": "python3"
  },
  "language_info": {
   "codemirror_mode": {
    "name": "ipython",
    "version": 3
   },
   "file_extension": ".py",
   "mimetype": "text/x-python",
   "name": "python",
   "nbconvert_exporter": "python",
   "pygments_lexer": "ipython3",
   "version": "3.9.7"
  }
 },
 "nbformat": 4,
 "nbformat_minor": 5
}
